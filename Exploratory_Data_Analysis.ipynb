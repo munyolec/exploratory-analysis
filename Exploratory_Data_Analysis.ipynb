{
  "nbformat": 4,
  "nbformat_minor": 0,
  "metadata": {
    "colab": {
      "name": "Exploratory_Data_Analysis.ipynb",
      "provenance": [],
      "collapsed_sections": [],
      "authorship_tag": "ABX9TyOkEzc1U+6f9o3fPMfWjeei"
    },
    "kernelspec": {
      "name": "python3",
      "display_name": "Python 3"
    }
  },
  "cells": [
    {
      "cell_type": "code",
      "metadata": {
        "id": "JmYDQXA0jJpm",
        "colab_type": "code",
        "colab": {}
      },
      "source": [
        "!pip install openpyxl \n",
        "import numpy as np\n",
        "import pandas as pd\n",
        "from pandas import read_excel\n",
        "import seaborn as sns\n",
        "import matplotlib.pyplot as plt\n",
        "from statistics import *\n",
        "from tabulate import tabulate"
      ],
      "execution_count": null,
      "outputs": []
    },
    {
      "cell_type": "code",
      "metadata": {
        "id": "MYIERObBkAG4",
        "colab_type": "code",
        "colab": {}
      },
      "source": [
        "my_sheet = 'Sheet1' # change it to your sheet name\n",
        "file_name = 'Week2_challenge_data_source.xlsx' # change it to the name of your excel file\n",
        "df = read_excel(file_name, sheet_name = my_sheet, usecols=\"H,AD,AE\")\n",
        "df"
      ],
      "execution_count": null,
      "outputs": []
    },
    {
      "cell_type": "code",
      "metadata": {
        "id": "kqU93vdcpY3f",
        "colab_type": "code",
        "colab": {}
      },
      "source": [
        "df['Handset Type'].value_counts()[df['Handset Type'].value_counts() == df['Handset Type'].value_counts().max()]"
      ],
      "execution_count": null,
      "outputs": []
    },
    {
      "cell_type": "code",
      "metadata": {
        "id": "Tj5XgU8kr014",
        "colab_type": "code",
        "colab": {}
      },
      "source": [
        "#top 10 handset types\n",
        "n = 10\n",
        "df['Handset Type'].value_counts()[:n].index.tolist()"
      ],
      "execution_count": null,
      "outputs": []
    },
    {
      "cell_type": "code",
      "metadata": {
        "id": "R9IlVQx0skj4",
        "colab_type": "code",
        "colab": {}
      },
      "source": [
        "#top 3 handset manufacturers\n",
        "n = 3\n",
        "top_manufacturer_df=df['Handset Manufacturer'].value_counts()[:n].index.tolist()\n",
        "top_manufacturer_df"
      ],
      "execution_count": null,
      "outputs": []
    },
    {
      "cell_type": "code",
      "metadata": {
        "id": "ACDMqC2Lsth4",
        "colab_type": "code",
        "colab": {}
      },
      "source": [
        "df.groupby(['Handset Manufacturer', 'Handset Type']).size().reset_index(name='count').sort_values(['Handset Type','Handset Manufacturer']).groupby('Handset Manufacturer').head(3)"
      ],
      "execution_count": null,
      "outputs": []
    },
    {
      "cell_type": "code",
      "metadata": {
        "id": "gfRIvu4pxWPo",
        "colab_type": "code",
        "colab": {}
      },
      "source": [
        "df1=df.groupby([\"Handset Manufacturer\", \"Handset Type\"]).size().reset_index(name=\"count\").sort_values([\"Handset Manufacturer\",\"count\"],ascending=[1,0]).groupby('Handset Manufacturer').head(5)\n",
        "df1.to_csv('out3.csv')\n",
        "df1"
      ],
      "execution_count": null,
      "outputs": []
    },
    {
      "cell_type": "code",
      "metadata": {
        "id": "VsyKwvTEGWLD",
        "colab_type": "code",
        "colab": {}
      },
      "source": [
        "my_sheet = 'Sheet1' # change it to your sheet name\n",
        "file_name = 'Week2_challenge_data_source.xlsx' # change it to the name of your excel file\n",
        "df_user = read_excel(file_name, sheet_name = my_sheet, usecols=\"A,H,F,BB,BC,AN,AO,AP,AQ,AR,AS,AT,AU,AV,AW,AX,AY,AZ,BA,BB,BC\")\n",
        "df_user"
      ],
      "execution_count": null,
      "outputs": []
    },
    {
      "cell_type": "code",
      "metadata": {
        "id": "CVDv6ix68Hq1",
        "colab_type": "code",
        "colab": {}
      },
      "source": [
        "df_clean=df_user.fillna(df_user.mean())\n",
        "df_clean"
      ],
      "execution_count": null,
      "outputs": []
    },
    {
      "cell_type": "code",
      "metadata": {
        "id": "kujNXll48-4R",
        "colab_type": "code",
        "colab": {}
      },
      "source": [
        "Q1 = df_user.quantile(0.25)\n",
        "Q3 = df_user.quantile(0.75)\n",
        "IQR = Q3 - Q1\n",
        "print(IQR)"
      ],
      "execution_count": null,
      "outputs": []
    },
    {
      "cell_type": "code",
      "metadata": {
        "id": "7Edw3x-j9RHX",
        "colab_type": "code",
        "colab": {}
      },
      "source": [
        "print(df_user < (Q1 - 1.5 * IQR)) |(df_user > (Q3 + 1.5 * IQR))\n"
      ],
      "execution_count": null,
      "outputs": []
    },
    {
      "cell_type": "code",
      "metadata": {
        "id": "KKIbVKQmyTqc",
        "colab_type": "code",
        "colab": {}
      },
      "source": [
        "#total volume of social media in bytes\n",
        "sum_column = df_user[\"Social Media UL (Bytes)\"] + df_user[\"Social Media DL (Bytes)\"]\n",
        "sum_data=df_user['Total DL (Bytes)']+df_user['Total UL (Bytes)']\n",
        "df_user[\"Total Social Media Volume (Bytes)\"] = sum_column\n",
        "df_user['Total UL+Dl (Bytes)']=sum_data\n",
        "df_user.to_csv(\"social_media.csv\")\n",
        "sm_df=df_user.groupby('MSISDN/Number')['Total Social Media Volume (Bytes)'].sum().reset_index(name='Total_Social_Media_Volume')\n",
        "# sm_df\n",
        "\n"
      ],
      "execution_count": 46,
      "outputs": []
    },
    {
      "cell_type": "code",
      "metadata": {
        "id": "5Is4qpHAFry4",
        "colab_type": "code",
        "colab": {}
      },
      "source": [
        "# x=sum_column\n",
        "# y=sum_data\n",
        "plt.figure(num=None,figsize=(12,8),dpi=80,facecolor='w',edgecolor='k')\n",
        "sns.boxplot(x=\"Total Social Media Volume (Bytes)\",y=\"Total UL+Dl (Bytes)\", data=df_user)\n",
        "plt.show"
      ],
      "execution_count": null,
      "outputs": []
    },
    {
      "cell_type": "code",
      "metadata": {
        "id": "by2aKV_-ospD",
        "colab_type": "code",
        "colab": {}
      },
      "source": [
        "(sm_df['Total Social Media Volume (Bytes)'].value_counts().head(10) / len(sm_df)).plot.bar()\n"
      ],
      "execution_count": null,
      "outputs": []
    },
    {
      "cell_type": "code",
      "metadata": {
        "id": "nPfGEM-NAU_9",
        "colab_type": "code",
        "colab": {}
      },
      "source": [
        "sns.distplot(sm_df.Total_Social_Media_Volume.dropna(), kde=False, bins = 50)\n"
      ],
      "execution_count": null,
      "outputs": []
    },
    {
      "cell_type": "code",
      "metadata": {
        "id": "UQyVWFeTgOuS",
        "colab_type": "code",
        "colab": {}
      },
      "source": [
        "# #min,max, average of social media \n",
        "sm_df['Total Social Media Volume (Bytes)'].describe()"
      ],
      "execution_count": null,
      "outputs": []
    },
    {
      "cell_type": "code",
      "metadata": {
        "id": "NA8hgM5e0mZS",
        "colab_type": "code",
        "colab": {}
      },
      "source": [
        "#total volume of google in bytes\n",
        "sum_column1 = df_user[\"Google UL (Bytes)\"] + df_user[\"Google DL (Bytes)\"]\n",
        "sum_data1=df_user['Total DL (Bytes)']+df_user['Total UL (Bytes)']\n",
        "df_user[\"Total Google Volume (Bytes)\"] = sum_column1\n",
        "df_user['Total UL+Dl (Bytes)']=sum_data1\n",
        "df_user.to_csv(\"google.csv\")\n",
        "gg_df=df_user.groupby('MSISDN/Number')['Total Google Volume (Bytes)'].sum().reset_index(name='Total_Google_Volume')\n",
        "# gg_df\n"
      ],
      "execution_count": 51,
      "outputs": []
    },
    {
      "cell_type": "code",
      "metadata": {
        "id": "NazK6bq_fp9g",
        "colab_type": "code",
        "colab": {}
      },
      "source": [
        "# #min,max, average of google \n",
        "gg_df['Total Google Volume (Bytes)'].describe()"
      ],
      "execution_count": null,
      "outputs": []
    },
    {
      "cell_type": "code",
      "metadata": {
        "id": "2aIRVOEuCb56",
        "colab_type": "code",
        "colab": {}
      },
      "source": [
        "(gg_df['Total Google Volume (Bytes)'].value_counts().head(10) / len(sm_df)).plot.bar()\n"
      ],
      "execution_count": null,
      "outputs": []
    },
    {
      "cell_type": "code",
      "metadata": {
        "id": "da-mg-laBe9H",
        "colab_type": "code",
        "colab": {}
      },
      "source": [
        "sns.distplot(gg_df.Total_Google_Volume.dropna(), kde=False, bins = 50)\n"
      ],
      "execution_count": null,
      "outputs": []
    },
    {
      "cell_type": "code",
      "metadata": {
        "id": "JdmsMtI911xL",
        "colab_type": "code",
        "colab": {}
      },
      "source": [
        "#total volume of email in bytes\n",
        "sum_column2 = df_user[\"Email UL (Bytes)\"] + df_user[\"Email DL (Bytes)\"]\n",
        "sum_data2=df_user['Total DL (Bytes)']+df_user['Total UL (Bytes)']\n",
        "df_user['Total UL+Dl (Bytes)']=sum_data2\n",
        "df_user[\"Total Email Volume (Bytes)\"] = sum_column2\n",
        "df_user.to_csv(\"email.csv\")\n",
        "em_df=df_user.groupby('MSISDN/Number')['Total Email Volume (Bytes)'].sum().reset_index(name='Total Email volume (Bytes)')\n",
        "# em_df\n"
      ],
      "execution_count": 29,
      "outputs": []
    },
    {
      "cell_type": "code",
      "metadata": {
        "id": "OlAW2rHufMHy",
        "colab_type": "code",
        "colab": {}
      },
      "source": [
        "# #min,max, average of email \n",
        "em_df['Total Email volume (Bytes)'].describe()"
      ],
      "execution_count": null,
      "outputs": []
    },
    {
      "cell_type": "code",
      "metadata": {
        "id": "NbD5Qbi5ClhO",
        "colab_type": "code",
        "colab": {}
      },
      "source": [
        "(em_df['Total Email volume (Bytes)'].value_counts().head(10) / len(sm_df)).plot.bar()\n"
      ],
      "execution_count": null,
      "outputs": []
    },
    {
      "cell_type": "code",
      "metadata": {
        "id": "ym89QluQ164J",
        "colab_type": "code",
        "colab": {}
      },
      "source": [
        "#total volume of youtube in bytes\n",
        "sum_column3 = df_user[\"Youtube UL (Bytes)\"] + df_user[\"Youtube DL (Bytes)\"]\n",
        "sum_data3=df_user['Total DL (Bytes)']+df_user['Total UL (Bytes)']\n",
        "df_user[\"Total Youtube Volume (Bytes)\"] = sum_column3\n",
        "df_user['Total UL+Dl (Bytes)']=sum_data3\n",
        "df_user.to_csv(\"youtube.csv\")\n",
        "yt_df=df_user.groupby('MSISDN/Number')['Total Youtube Volume (Bytes)'].sum().reset_index(name='Total Youtube Volume (Bytes)')\n",
        "# yt_df\n"
      ],
      "execution_count": 23,
      "outputs": []
    },
    {
      "cell_type": "code",
      "metadata": {
        "id": "_fY-ZNrYevNM",
        "colab_type": "code",
        "colab": {}
      },
      "source": [
        "# #min,max, average of Youtube \n",
        "yt_df['Total Youtube Volume (Bytes)'].describe()"
      ],
      "execution_count": null,
      "outputs": []
    },
    {
      "cell_type": "code",
      "metadata": {
        "id": "wa4VpOD3CsRQ",
        "colab_type": "code",
        "colab": {}
      },
      "source": [
        "(yt_df['Total Youtube Volume (Bytes)'].value_counts().head(10) / len(sm_df)).plot.bar()\n"
      ],
      "execution_count": null,
      "outputs": []
    },
    {
      "cell_type": "code",
      "metadata": {
        "id": "lQc_vtn02D51",
        "colab_type": "code",
        "colab": {}
      },
      "source": [
        "#total volume of netflix in bytes\n",
        "sum_column4 = df_user[\"Netflix UL (Bytes)\"] + df_user[\"Netflix DL (Bytes)\"]\n",
        "sum_data4=df_user['Total DL (Bytes)']+df_user['Total UL (Bytes)']\n",
        "df_user[\"Total Netflix Volume (Bytes)\"] = sum_column4\n",
        "df_user['Total UL+Dl (Bytes)']=sum_data4\n",
        "df_user.to_csv(\"netflix.csv\")\n",
        "nf_df=df_user.groupby('MSISDN/Number')['Total Netflix Volume (Bytes)'].sum().reset_index(name='Total Netflix Volume (Bytes)')\n",
        "# nf_df\n"
      ],
      "execution_count": null,
      "outputs": []
    },
    {
      "cell_type": "code",
      "metadata": {
        "id": "E4jyxi80eU7c",
        "colab_type": "code",
        "colab": {}
      },
      "source": [
        "# #min,max, average of netflix \n",
        "nf_df['Total Netflix Volume (Bytes)'].describe()"
      ],
      "execution_count": null,
      "outputs": []
    },
    {
      "cell_type": "code",
      "metadata": {
        "id": "tvVgNKDlCxJ4",
        "colab_type": "code",
        "colab": {}
      },
      "source": [
        "(nf_df['Total Netflix Volume (Bytes)'].value_counts().head(10) / len(sm_df)).plot.bar()\n"
      ],
      "execution_count": null,
      "outputs": []
    },
    {
      "cell_type": "code",
      "metadata": {
        "id": "9hb_naiL2Qdw",
        "colab_type": "code",
        "colab": {}
      },
      "source": [
        "#total volume of gaming in bytes\n",
        "sum_column5 = df_user[\"Gaming UL (Bytes)\"] + df_user[\"Gaming DL (Bytes)\"]\n",
        "sum_data5=df_user['Total DL (Bytes)']+df_user['Total UL (Bytes)']\n",
        "df_user['Total UL+Dl (Bytes)']=sum_data5\n",
        "df_user[\"Total Gaming Volume (Bytes)\"] = sum_column5\n",
        "df_user.to_csv(\"gaming.csv\")\n",
        "gm_df=df_user.groupby('MSISDN/Number')['Total Gaming Volume (Bytes)'].sum().reset_index(name='Total Gaming Volume (Bytes)')\n",
        "# gm_df\n"
      ],
      "execution_count": 25,
      "outputs": []
    },
    {
      "cell_type": "code",
      "metadata": {
        "id": "XAb1KyBadrP1",
        "colab_type": "code",
        "colab": {}
      },
      "source": [
        "# #min,max, average of Gaming \n",
        "gm_df['Total Gaming Volume (Bytes)'].describe()"
      ],
      "execution_count": null,
      "outputs": []
    },
    {
      "cell_type": "code",
      "metadata": {
        "id": "VTXeZAOVDcXL",
        "colab_type": "code",
        "colab": {}
      },
      "source": [
        "(gm_df['Total Gaming Volume (Bytes)'].value_counts().head(10) / len(sm_df)).plot.bar()\n"
      ],
      "execution_count": null,
      "outputs": []
    },
    {
      "cell_type": "code",
      "metadata": {
        "id": "NBFERrM62jfb",
        "colab_type": "code",
        "colab": {}
      },
      "source": [
        "#total volume of other in bytes\n",
        "sum_column = df_user[\"Other UL (Bytes)\"] + df_user[\"Other DL (Bytes)\"]\n",
        "df_user[\"Total Other Volume (Bytes)\"] = sum_column\n",
        "dur_agg=df_user.groupby('MSISDN/Number')['Total Other Volume (Bytes)'].sum()\n",
        "dur_agg\n"
      ],
      "execution_count": null,
      "outputs": []
    },
    {
      "cell_type": "code",
      "metadata": {
        "id": "1fKE-MWUHWnL",
        "colab_type": "code",
        "colab": {}
      },
      "source": [
        "#number of xdr sessions per user\n",
        "xdr=df_user.groupby('MSISDN/Number')['Bearer Id'].count().reset_index(name='count')\n",
        "xdr.to_csv(\"xdr.csv\")\n",
        "xdr"
      ],
      "execution_count": null,
      "outputs": []
    },
    {
      "cell_type": "code",
      "metadata": {
        "id": "p5-GQ-4NDtUI",
        "colab_type": "code",
        "colab": {}
      },
      "source": [
        "#min,max, average of xdr sessions\n",
        "xdr['count'].describe()"
      ],
      "execution_count": null,
      "outputs": []
    },
    {
      "cell_type": "code",
      "metadata": {
        "id": "B_OHMfA1DsHt",
        "colab_type": "code",
        "colab": {}
      },
      "source": [
        "(xdr['count'].value_counts().head(10) / len(sm_df)).plot.bar()\n"
      ],
      "execution_count": null,
      "outputs": []
    },
    {
      "cell_type": "code",
      "metadata": {
        "id": "jhHCEl3lDmih",
        "colab_type": "code",
        "colab": {}
      },
      "source": [
        "#session duration per user\n",
        "dur_agg=df_user.groupby('MSISDN/Number')['Dur. (ms)'].sum().reset_index(name=\"sum\")\n",
        "# dur_agg"
      ],
      "execution_count": 38,
      "outputs": []
    },
    {
      "cell_type": "code",
      "metadata": {
        "id": "jviUvFV-Dxke",
        "colab_type": "code",
        "colab": {}
      },
      "source": [
        "#min,max, average of sessions duration\n",
        "dur_agg[\"sum\"].describe()"
      ],
      "execution_count": null,
      "outputs": []
    },
    {
      "cell_type": "code",
      "metadata": {
        "id": "sui9kABSDx6F",
        "colab_type": "code",
        "colab": {}
      },
      "source": [
        "(dur_agg['sum'].value_counts().head(10) / len(sm_df)).plot.bar()\n"
      ],
      "execution_count": null,
      "outputs": []
    },
    {
      "cell_type": "code",
      "metadata": {
        "id": "n-USMWtAF51j",
        "colab_type": "code",
        "colab": {}
      },
      "source": [
        "#total UL data per user\n",
        "dur_agg_ul=df_user.groupby('MSISDN/Number')['Total UL (Bytes)'].sum().reset_index(name=\"sum\")\n",
        "# dur_agg_ul\n"
      ],
      "execution_count": 40,
      "outputs": []
    },
    {
      "cell_type": "code",
      "metadata": {
        "id": "pX_p5tSocD2e",
        "colab_type": "code",
        "colab": {}
      },
      "source": [
        "# #min,max, average of UL sessions\n",
        "dur_agg_ul['sum'].describe()"
      ],
      "execution_count": null,
      "outputs": []
    },
    {
      "cell_type": "code",
      "metadata": {
        "id": "3F-A4ESmD5nO",
        "colab_type": "code",
        "colab": {}
      },
      "source": [
        "(dur_agg_ul['sum'].value_counts().head(10) / len(sm_df)).plot.bar()\n"
      ],
      "execution_count": null,
      "outputs": []
    },
    {
      "cell_type": "code",
      "metadata": {
        "id": "nfUOR3q3GQIQ",
        "colab_type": "code",
        "colab": {}
      },
      "source": [
        "#total DL data per user\n",
        "dur_agg_dl=df_user.groupby('MSISDN/Number')['Total DL (Bytes)'].sum().reset_index(name=\"sum\")\n",
        "# dur_agg_dl\n"
      ],
      "execution_count": 42,
      "outputs": []
    },
    {
      "cell_type": "code",
      "metadata": {
        "id": "rQq-vneRc-xH",
        "colab_type": "code",
        "colab": {}
      },
      "source": [
        "# #min,max, average of DL sessions\n",
        "dur_agg_dl['sum'].describe()"
      ],
      "execution_count": null,
      "outputs": []
    },
    {
      "cell_type": "code",
      "metadata": {
        "id": "7rCEMDY7EBFM",
        "colab_type": "code",
        "colab": {}
      },
      "source": [
        "(dur_agg_dl['sum'].value_counts().head(10) / len(sm_df)).plot.bar()\n"
      ],
      "execution_count": null,
      "outputs": []
    }
  ]
}